{
 "cells": [
  {
   "cell_type": "code",
   "execution_count": 53,
   "metadata": {},
   "outputs": [],
   "source": [
    "import numpy as np\n",
    "import pandas as pd\n",
    "from sklearn import preprocessing\n",
    "from sklearn.model_selection import *\n",
    "from sklearn.feature_selection import SelectFromModel\n",
    "from sklearn.ensemble import RandomForestRegressor\n",
    "from sklearn.metrics import mean_squared_error\n",
    "from sklearn.linear_model import LogisticRegression"
   ]
  },
  {
   "cell_type": "code",
   "execution_count": 54,
   "metadata": {},
   "outputs": [
    {
     "name": "stderr",
     "output_type": "stream",
     "text": [
      "<ipython-input-54-8b10d877dc69>:7: SettingWithCopyWarning: \n",
      "A value is trying to be set on a copy of a slice from a DataFrame\n",
      "\n",
      "See the caveats in the documentation: https://pandas.pydata.org/pandas-docs/stable/user_guide/indexing.html#returning-a-view-versus-a-copy\n",
      "  X[i][j] = str(X[i][j])\n"
     ]
    },
    {
     "name": "stdout",
     "output_type": "stream",
     "text": [
      "['Number_PP', 'Name', 'Full_name', 'Code', 'Owners_name', 'Article', 'Sharto', 'Qty_stock', 'Remaining_amount']\n"
     ]
    }
   ],
   "source": [
    "X = pd.read_csv(\"Task1_3_Corrected.csv\")\n",
    "X = X.drop('Unnamed: 0', axis=1)\n",
    "X.head()\n",
    "objectCols = X.select_dtypes(include = ['object'])\n",
    "for i in objectCols:\n",
    "    for j in range(0, len(X[i])):\n",
    "        X[i][j] = str(X[i][j])\n",
    "    encoder = preprocessing.LabelEncoder()\n",
    "    X[i] = encoder.fit_transform(X[i])\n",
    "\n",
    "\n",
    "X.head()\n",
    "\n",
    "train_X, test_X = train_test_split(X, random_state=2)\n",
    "train_y = train_X.Price\n",
    "train_X = train_X.drop('Price', axis=1)\n",
    "test_y = test_X.Price\n",
    "test_X = test_X.drop('Price', axis=1)\n",
    "\n",
    "selector = SelectFromModel(RandomForestRegressor(n_jobs = -1, n_estimators = 400, random_state = 2), )\n",
    "selector.fit(train_X, train_y)\n",
    "columns = train_X.columns\n",
    "train_X = selector.transform(train_X)\n",
    "test_X = selector.transform(test_X)\n",
    "arr = []\n",
    "for i in range(len(selector.estimator_.feature_importances_)):\n",
    "    if selector.estimator_.feature_importances_[i] > np.mean(selector.estimator_.feature_importances_):\n",
    "        arr.append(i)\n",
    "picked = [columns[i] for i in arr]\n",
    "print(picked)"
   ]
  }
 ],
 "metadata": {
  "kernelspec": {
   "display_name": "Python 3.8.2 64-bit",
   "language": "python",
   "name": "python38264bit806aa8602e434374bd224a0f428caa36"
  },
  "language_info": {
   "codemirror_mode": {
    "name": "ipython",
    "version": 3
   },
   "file_extension": ".py",
   "mimetype": "text/x-python",
   "name": "python",
   "nbconvert_exporter": "python",
   "pygments_lexer": "ipython3",
   "version": "3.8.5"
  }
 },
 "nbformat": 4,
 "nbformat_minor": 2
}
