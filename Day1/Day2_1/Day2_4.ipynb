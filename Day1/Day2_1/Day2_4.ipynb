{
 "cells": [
  {
   "cell_type": "code",
   "execution_count": 136,
   "metadata": {},
   "outputs": [],
   "source": [
    "import pandas as pd\n",
    "import numpy as np\n",
    "import matplotlib.pyplot as plt\n",
    "from sklearn.model_selection import train_test_split, cross_val_score\n",
    "from sklearn import svm\n",
    "from sklearn import neighbors\n",
    "from sklearn import tree\n",
    "from sklearn import ensemble\n",
    "from sklearn.linear_model import Perceptron"
   ]
  },
  {
   "cell_type": "code",
   "execution_count": 137,
   "metadata": {
    "scrolled": false
   },
   "outputs": [
    {
     "name": "stderr",
     "output_type": "stream",
     "text": [
      "<ipython-input-137-e65978d07b19>:22: SettingWithCopyWarning: \n",
      "A value is trying to be set on a copy of a slice from a DataFrame\n",
      "\n",
      "See the caveats in the documentation: https://pandas.pydata.org/pandas-docs/stable/user_guide/indexing.html#returning-a-view-versus-a-copy\n",
      "  tmp['Category'][i] = 4\n",
      "<ipython-input-137-e65978d07b19>:20: SettingWithCopyWarning: \n",
      "A value is trying to be set on a copy of a slice from a DataFrame\n",
      "\n",
      "See the caveats in the documentation: https://pandas.pydata.org/pandas-docs/stable/user_guide/indexing.html#returning-a-view-versus-a-copy\n",
      "  tmp['Category'][i] = 3\n",
      "<ipython-input-137-e65978d07b19>:18: SettingWithCopyWarning: \n",
      "A value is trying to be set on a copy of a slice from a DataFrame\n",
      "\n",
      "See the caveats in the documentation: https://pandas.pydata.org/pandas-docs/stable/user_guide/indexing.html#returning-a-view-versus-a-copy\n",
      "  tmp['Category'][i] = 2\n",
      "<ipython-input-137-e65978d07b19>:16: SettingWithCopyWarning: \n",
      "A value is trying to be set on a copy of a slice from a DataFrame\n",
      "\n",
      "See the caveats in the documentation: https://pandas.pydata.org/pandas-docs/stable/user_guide/indexing.html#returning-a-view-versus-a-copy\n",
      "  tmp['Category'][i] = 0\n"
     ]
    },
    {
     "data": {
      "text/html": [
       "<div>\n",
       "<style scoped>\n",
       "    .dataframe tbody tr th:only-of-type {\n",
       "        vertical-align: middle;\n",
       "    }\n",
       "\n",
       "    .dataframe tbody tr th {\n",
       "        vertical-align: top;\n",
       "    }\n",
       "\n",
       "    .dataframe thead th {\n",
       "        text-align: right;\n",
       "    }\n",
       "</style>\n",
       "<table border=\"1\" class=\"dataframe\">\n",
       "  <thead>\n",
       "    <tr style=\"text-align: right;\">\n",
       "      <th></th>\n",
       "      <th>Full_name</th>\n",
       "      <th>Kind</th>\n",
       "      <th>Name</th>\n",
       "      <th>Number_PP</th>\n",
       "      <th>Owners_name</th>\n",
       "      <th>Qty_stock</th>\n",
       "      <th>Remaining_amount</th>\n",
       "      <th>Price</th>\n",
       "      <th>Category</th>\n",
       "    </tr>\n",
       "  </thead>\n",
       "  <tbody>\n",
       "    <tr>\n",
       "      <th>0</th>\n",
       "      <td>700.0</td>\n",
       "      <td>1.0</td>\n",
       "      <td>780.0</td>\n",
       "      <td>1433.0</td>\n",
       "      <td>26.0</td>\n",
       "      <td>382.24585</td>\n",
       "      <td>52.0</td>\n",
       "      <td>188.96</td>\n",
       "      <td>4</td>\n",
       "    </tr>\n",
       "    <tr>\n",
       "      <th>1</th>\n",
       "      <td>218.0</td>\n",
       "      <td>1.0</td>\n",
       "      <td>263.0</td>\n",
       "      <td>412.0</td>\n",
       "      <td>49.0</td>\n",
       "      <td>549.48921</td>\n",
       "      <td>39.0</td>\n",
       "      <td>95.73</td>\n",
       "      <td>4</td>\n",
       "    </tr>\n",
       "    <tr>\n",
       "      <th>2</th>\n",
       "      <td>6.0</td>\n",
       "      <td>1.0</td>\n",
       "      <td>6.0</td>\n",
       "      <td>10.0</td>\n",
       "      <td>2.0</td>\n",
       "      <td>3962.00000</td>\n",
       "      <td>280.0</td>\n",
       "      <td>99.83</td>\n",
       "      <td>4</td>\n",
       "    </tr>\n",
       "    <tr>\n",
       "      <th>3</th>\n",
       "      <td>351.0</td>\n",
       "      <td>1.0</td>\n",
       "      <td>401.0</td>\n",
       "      <td>633.0</td>\n",
       "      <td>57.0</td>\n",
       "      <td>294.11689</td>\n",
       "      <td>44.0</td>\n",
       "      <td>93.28</td>\n",
       "      <td>4</td>\n",
       "    </tr>\n",
       "    <tr>\n",
       "      <th>4</th>\n",
       "      <td>675.0</td>\n",
       "      <td>1.0</td>\n",
       "      <td>755.0</td>\n",
       "      <td>1402.0</td>\n",
       "      <td>8.0</td>\n",
       "      <td>504.36293</td>\n",
       "      <td>4.0</td>\n",
       "      <td>52.33</td>\n",
       "      <td>3</td>\n",
       "    </tr>\n",
       "  </tbody>\n",
       "</table>\n",
       "</div>"
      ],
      "text/plain": [
       "   Full_name  Kind   Name  Number_PP  Owners_name   Qty_stock  \\\n",
       "0      700.0   1.0  780.0     1433.0         26.0   382.24585   \n",
       "1      218.0   1.0  263.0      412.0         49.0   549.48921   \n",
       "2        6.0   1.0    6.0       10.0          2.0  3962.00000   \n",
       "3      351.0   1.0  401.0      633.0         57.0   294.11689   \n",
       "4      675.0   1.0  755.0     1402.0          8.0   504.36293   \n",
       "\n",
       "   Remaining_amount   Price  Category  \n",
       "0              52.0  188.96         4  \n",
       "1              39.0   95.73         4  \n",
       "2             280.0   99.83         4  \n",
       "3              44.0   93.28         4  \n",
       "4               4.0   52.33         3  "
      ]
     },
     "execution_count": 137,
     "metadata": {},
     "output_type": "execute_result"
    }
   ],
   "source": [
    "X = pd.read_csv(\"Day2_PickedKBest.csv\").drop(\"Unnamed: 0\", axis=1)\n",
    "tmp = X.copy(deep=True)\n",
    "cats = [0 for i in range(4)]\n",
    "tmp['Category'] = pd.Series([0 for i in range(len(tmp.values))], index=tmp.index)\n",
    "for i in tmp.Price:\n",
    "    if i < 24:\n",
    "        cats[0] += 1\n",
    "    elif i < 51:\n",
    "        cats[1] += 1\n",
    "    elif i < 75:\n",
    "        cats[2] += 1\n",
    "    else:\n",
    "        cats[3] += 1\n",
    "for i in range(0, len(tmp.values)):\n",
    "    if tmp['Price'][i] < 24:\n",
    "        tmp['Category'][i] = 0\n",
    "    elif tmp['Price'][i] < 51:\n",
    "        tmp['Category'][i] = 2\n",
    "    elif tmp['Price'][i] < 75:\n",
    "        tmp['Category'][i] = 3\n",
    "    else:\n",
    "        tmp['Category'][i] = 4\n",
    "# четыре категории: меньше 24, меньше 51, меньше 75, больше или равно 75\n",
    "tmp.head()"
   ]
  },
  {
   "cell_type": "code",
   "execution_count": 138,
   "metadata": {},
   "outputs": [],
   "source": [
    "tmp_X = tmp.drop(['Kind', 'Full_name', 'Number_PP'],axis = 1)\n",
    "train_X, test_X = train_test_split(tmp_X, test_size = 0.2, random_state = 1)\n",
    "train_Y = train_X.Category\n",
    "train_X = train_X.drop(['Price', 'Category'], axis = 1)\n",
    "test_Y = test_X.Category\n",
    "test_X = test_X.drop(['Price', 'Category'], axis = 1)"
   ]
  },
  {
   "cell_type": "code",
   "execution_count": 139,
   "metadata": {},
   "outputs": [
    {
     "data": {
      "text/plain": [
       "0.2486553663727577"
      ]
     },
     "execution_count": 139,
     "metadata": {},
     "output_type": "execute_result"
    }
   ],
   "source": [
    "svcCLF = svm.NuSVC(nu=0.1, kernel='rbf', random_state=1) # Классификатор опорныъ\n",
    "\n",
    "scores = cross_val_score(svcCLF, train_X, train_Y, cv=10, scoring='balanced_accuracy')\n",
    "scores.mean()"
   ]
  },
  {
   "cell_type": "code",
   "execution_count": 140,
   "metadata": {},
   "outputs": [
    {
     "data": {
      "text/plain": [
       "0.275804347826087"
      ]
     },
     "execution_count": 140,
     "metadata": {},
     "output_type": "execute_result"
    }
   ],
   "source": [
    "dtcCLF = tree.DecisionTreeClassifier(max_depth=2, criterion='entropy', random_state=1)\n",
    "\n",
    "scores = cross_val_score(dtcCLF, train_X, train_Y, cv=10, scoring='balanced_accuracy')\n",
    "scores.mean()"
   ]
  },
  {
   "cell_type": "code",
   "execution_count": 141,
   "metadata": {},
   "outputs": [
    {
     "data": {
      "text/plain": [
       "0.28567284889024014"
      ]
     },
     "execution_count": 141,
     "metadata": {},
     "output_type": "execute_result"
    }
   ],
   "source": [
    "rfcCLF = ensemble.RandomForestClassifier(max_depth = 2, n_estimators=200, n_jobs = -1, random_state=1)\n",
    "scores = cross_val_score(rfcCLF, train_X, train_Y, cv=10, scoring='balanced_accuracy')\n",
    "scores.mean()"
   ]
  },
  {
   "cell_type": "code",
   "execution_count": 142,
   "metadata": {},
   "outputs": [
    {
     "data": {
      "text/plain": [
       "0.27168487948539094"
      ]
     },
     "execution_count": 142,
     "metadata": {},
     "output_type": "execute_result"
    }
   ],
   "source": [
    "vtcCLF = ensemble.VotingClassifier([('SVC', svcCLF), ('dtcCLF', dtcCLF), ('rfcCLF', rfcCLF)], n_jobs =-1)\n",
    "scores = cross_val_score(vtcCLF, train_X, train_Y, cv=5, scoring='balanced_accuracy')\n",
    "scores.mean()"
   ]
  },
  {
   "cell_type": "code",
   "execution_count": 143,
   "metadata": {},
   "outputs": [
    {
     "data": {
      "text/plain": [
       "0.2629965382727531"
      ]
     },
     "execution_count": 143,
     "metadata": {},
     "output_type": "execute_result"
    }
   ],
   "source": [
    "gbcCLF = ensemble.GradientBoostingClassifier(learning_rate = 0.1, random_state = 1, max_depth=2, n_estimators=200)\n",
    "scores = cross_val_score(gbcCLF, train_X, train_Y, cv=5, scoring='balanced_accuracy')\n",
    "scores.mean()"
   ]
  },
  {
   "cell_type": "code",
   "execution_count": 201,
   "metadata": {},
   "outputs": [
    {
     "data": {
      "text/plain": [
       "0.25027887571365837"
      ]
     },
     "execution_count": 201,
     "metadata": {},
     "output_type": "execute_result"
    }
   ],
   "source": [
    "pcpCLF = Perceptron(alpha=0.0001, random_state=1)\n",
    "scores = cross_val_score(pcpCLF, train_X, train_Y, cv=5, scoring='balanced_accuracy')\n",
    "scores.mean()"
   ]
  }
 ],
 "metadata": {
  "kernelspec": {
   "display_name": "Python 3.8.2 64-bit",
   "language": "python",
   "name": "python38264bit806aa8602e434374bd224a0f428caa36"
  },
  "language_info": {
   "codemirror_mode": {
    "name": "ipython",
    "version": 3
   },
   "file_extension": ".py",
   "mimetype": "text/x-python",
   "name": "python",
   "nbconvert_exporter": "python",
   "pygments_lexer": "ipython3",
   "version": "3.8.5"
  }
 },
 "nbformat": 4,
 "nbformat_minor": 2
}
